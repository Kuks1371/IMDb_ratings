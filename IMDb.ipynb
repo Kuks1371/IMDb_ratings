{
 "cells": [
  {
   "cell_type": "markdown",
   "id": "b6c5d438",
   "metadata": {},
   "source": [
    "Import potrzebnych bibliotek"
   ]
  },
  {
   "cell_type": "code",
   "execution_count": 1,
   "id": "f688c429",
   "metadata": {},
   "outputs": [],
   "source": [
    "import numpy as np\n",
    "import tensorflow \n",
    "from tensorflow import keras\n",
    "from keras import models\n",
    "from keras import layers\n",
    "from keras.datasets import imdb"
   ]
  },
  {
   "cell_type": "markdown",
   "id": "a6467611",
   "metadata": {},
   "source": [
    "Wczytanie danych z podziałem na zbiór treningowy i testowy"
   ]
  },
  {
   "cell_type": "code",
   "execution_count": 2,
   "id": "d399c50c",
   "metadata": {},
   "outputs": [],
   "source": [
    "(x_train, y_train), (x_test, y_test) = imdb.load_data(num_words=10000)"
   ]
  },
  {
   "cell_type": "markdown",
   "id": "abb3d970",
   "metadata": {},
   "source": [
    "Utworzenie funkcji typu vectorized z biblioteki NumPy która przyjmuje zagnieżdżone sekwencje obiektów i zwróci nam numpy array"
   ]
  },
  {
   "cell_type": "code",
   "execution_count": 3,
   "id": "328da227",
   "metadata": {},
   "outputs": [],
   "source": [
    "def vectorize(seq, dimension=10000):\n",
    "    print(len(seq), dimension)\n",
    "    result = np.zeros((len(seq), dimension)) # np.zeros - zwraca nowy array podanego kształtu i typu, wypełniony zerami.\n",
    "    for i, sequence in enumerate(seq):\n",
    "        result[i, sequence] = 1.\n",
    "    return result"
   ]
  },
  {
   "cell_type": "markdown",
   "id": "bc312502",
   "metadata": {},
   "source": [
    "Wywołanie funkcji vectorize() na zbiorach treningowych i testowych 'x' oraz przekształcenie zbiorów 'y' na array typu float"
   ]
  },
  {
   "cell_type": "code",
   "execution_count": 4,
   "id": "19f369eb",
   "metadata": {},
   "outputs": [
    {
     "name": "stdout",
     "output_type": "stream",
     "text": [
      "25000 10000\n",
      "25000 10000\n"
     ]
    }
   ],
   "source": [
    "X_train = vectorize(x_train)\n",
    "X_test = vectorize(x_test)\n",
    "Y_train = np.asarray(y_train).astype('float')\n",
    "Y_test = np.asarray(y_test).astype('float')"
   ]
  },
  {
   "cell_type": "markdown",
   "id": "773e8f7c",
   "metadata": {},
   "source": [
    "Utworzenie modelu sekwencyjnego z biblioteki tensorflow i dodanie odpowiednich warstw z funkcjami aktywacyjnymi"
   ]
  },
  {
   "cell_type": "code",
   "execution_count": 5,
   "id": "70a5d573",
   "metadata": {},
   "outputs": [],
   "source": [
    "model = models.Sequential()\n",
    "model.add(layers.Dense(20, activation = \"elu\", input_shape=(10000, )))\n",
    "model.add(layers.Dropout(0.8))\n",
    "model.add(layers.Dense(20, activation = \"elu\"))\n",
    "model.add(layers.Dropout(0.4))\n",
    "model.add(layers.Dense(1, activation = \"sigmoid\"))"
   ]
  },
  {
   "cell_type": "markdown",
   "id": "690b7281",
   "metadata": {},
   "source": [
    "Konfiguracja modelu z użyciem optymalizatora opartego o algorytm 'rmsprop', straty entropii krzyżowej pomiędzy wartościami prawdziwymi, a przewidywanymi oraz ustawienie metryki częstotliwości przewidywania."
   ]
  },
  {
   "cell_type": "code",
   "execution_count": 6,
   "id": "f76bf9ef",
   "metadata": {},
   "outputs": [],
   "source": [
    "model.compile(optimizer = \"rmsprop\", loss = \"binary_crossentropy\", metrics = [\"accuracy\"])"
   ]
  },
  {
   "cell_type": "markdown",
   "id": "b8e1fc80",
   "metadata": {},
   "source": [
    "Trenowanie modelu przez wyznaczoną liczbę epok, określoną ilością danych i sprawdzenie z danymi testowymi"
   ]
  },
  {
   "cell_type": "code",
   "execution_count": 7,
   "id": "a8be0dd8",
   "metadata": {},
   "outputs": [
    {
     "name": "stdout",
     "output_type": "stream",
     "text": [
      "Epoch 1/10\n",
      "25/25 [==============================] - 27s 863ms/step - loss: 0.6017 - accuracy: 0.6727 - val_loss: 0.4522 - val_accuracy: 0.8537\n",
      "Epoch 2/10\n",
      "25/25 [==============================] - 3s 123ms/step - loss: 0.4476 - accuracy: 0.8103 - val_loss: 0.3408 - val_accuracy: 0.8773\n",
      "Epoch 3/10\n",
      "25/25 [==============================] - 2s 99ms/step - loss: 0.3659 - accuracy: 0.8584 - val_loss: 0.2949 - val_accuracy: 0.8843\n",
      "Epoch 4/10\n",
      "25/25 [==============================] - 2s 78ms/step - loss: 0.3178 - accuracy: 0.8808 - val_loss: 0.2840 - val_accuracy: 0.8841\n",
      "Epoch 5/10\n",
      "25/25 [==============================] - 2s 71ms/step - loss: 0.2870 - accuracy: 0.8942 - val_loss: 0.2736 - val_accuracy: 0.8887\n",
      "Epoch 6/10\n",
      "25/25 [==============================] - 2s 76ms/step - loss: 0.2621 - accuracy: 0.9016 - val_loss: 0.2877 - val_accuracy: 0.8858\n",
      "Epoch 7/10\n",
      "25/25 [==============================] - 2s 77ms/step - loss: 0.2432 - accuracy: 0.9110 - val_loss: 0.2835 - val_accuracy: 0.8881\n",
      "Epoch 8/10\n",
      "25/25 [==============================] - 2s 71ms/step - loss: 0.2261 - accuracy: 0.9160 - val_loss: 0.2919 - val_accuracy: 0.8888\n",
      "Epoch 9/10\n",
      "25/25 [==============================] - 2s 68ms/step - loss: 0.2211 - accuracy: 0.9210 - val_loss: 0.3110 - val_accuracy: 0.8813\n",
      "Epoch 10/10\n",
      "25/25 [==============================] - 2s 62ms/step - loss: 0.2099 - accuracy: 0.9266 - val_loss: 0.3062 - val_accuracy: 0.8852\n"
     ]
    }
   ],
   "source": [
    "results = model.fit(X_train, Y_train, epochs=10 , batch_size = 1000, validation_data = (X_test, Y_test))"
   ]
  },
  {
   "cell_type": "markdown",
   "id": "a227b66b",
   "metadata": {},
   "source": [
    "Ocena modelu na podstawie porównania z danymi testowymi i przedstawienie wyników"
   ]
  },
  {
   "cell_type": "code",
   "execution_count": 8,
   "id": "a19ed953",
   "metadata": {},
   "outputs": [
    {
     "name": "stdout",
     "output_type": "stream",
     "text": [
      "782/782 [==============================] - 10s 3ms/step - loss: 0.3062 - accuracy: 0.8852\n"
     ]
    },
    {
     "data": {
      "text/plain": [
       "[0.3061745762825012, 0.8852400183677673]"
      ]
     },
     "execution_count": 8,
     "metadata": {},
     "output_type": "execute_result"
    }
   ],
   "source": [
    "results = model.evaluate(X_test,Y_test)\n",
    "results"
   ]
  },
  {
   "cell_type": "code",
   "execution_count": null,
   "id": "ca004cf9",
   "metadata": {},
   "outputs": [],
   "source": []
  }
 ],
 "metadata": {
  "kernelspec": {
   "display_name": "Python 3 (ipykernel)",
   "language": "python",
   "name": "python3"
  },
  "language_info": {
   "codemirror_mode": {
    "name": "ipython",
    "version": 3
   },
   "file_extension": ".py",
   "mimetype": "text/x-python",
   "name": "python",
   "nbconvert_exporter": "python",
   "pygments_lexer": "ipython3",
   "version": "3.9.7"
  }
 },
 "nbformat": 4,
 "nbformat_minor": 5
}
